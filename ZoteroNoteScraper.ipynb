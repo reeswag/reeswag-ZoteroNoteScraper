{
  "nbformat": 4,
  "nbformat_minor": 0,
  "metadata": {
    "colab": {
      "provenance": [],
      "authorship_tag": "ABX9TyPyQfNbv9bY3qFA24+CFfc4",
      "include_colab_link": true
    },
    "kernelspec": {
      "name": "python3",
      "display_name": "Python 3"
    },
    "language_info": {
      "name": "python"
    }
  },
  "cells": [
    {
      "cell_type": "markdown",
      "metadata": {
        "id": "view-in-github",
        "colab_type": "text"
      },
      "source": [
        "<a href=\"https://colab.research.google.com/github/reeswag/reeswag-ZoteroNoteScraper/blob/main/ZoteroNoteScraper.ipynb\" target=\"_parent\"><img src=\"https://colab.research.google.com/assets/colab-badge.svg\" alt=\"Open In Colab\"/></a>"
      ]
    },
    {
      "cell_type": "markdown",
      "source": [],
      "metadata": {
        "id": "Xq6CSCPKoxUa"
      }
    },
    {
      "cell_type": "markdown",
      "source": [
        "# Zotero Note Scraper\n",
        "## The purpose of this tool is to take the reports outputted by Zotero (html) and extract the article titles and annotations.\n",
        "## Notes are extracted in markdown format for compatability."
      ],
      "metadata": {
        "id": "DGA1ichao1TI"
      }
    },
    {
      "cell_type": "code",
      "source": [
        "from google.colab import files\n",
        "uploaded = files.upload()"
      ],
      "metadata": {
        "id": "YMRp2zWBpXN1"
      },
      "execution_count": null,
      "outputs": []
    },
    {
      "cell_type": "code",
      "execution_count": null,
      "metadata": {
        "id": "MNypLjaeouoD"
      },
      "outputs": [],
      "source": [
        "from bs4 import BeautifulSoup\n",
        "\n",
        "html_file_path = 'zotero_report.html'\n",
        "output_file_path = 'extracted_notes.md'\n",
        "\n",
        "with open(html_file_path, 'r', encoding='utf-8') as file:\n",
        "    soup = BeautifulSoup(file, 'html.parser')\n",
        "\n",
        "# Find all <h2> elements (titles)\n",
        "sections = soup.find_all('h2')\n",
        "\n",
        "# Extract titles and corresponding notes, then save to a Markdown file\n",
        "with open(output_file_path, 'w', encoding='utf-8') as output_file:\n",
        "    for section in sections:\n",
        "        title = section.get_text(strip=True)\n",
        "        notes = section.find_next_sibling('ul', class_='notes')\n",
        "        if notes:\n",
        "            # Extract individual annotations stored in <p> tags and combine with the title.\n",
        "            paragraphs = notes.find_all('p')\n",
        "            notes_text = '\\n\\n'.join(p.get_text(strip=True) for p in paragraphs)\n",
        "            output_file.write(f\"## {title}\\n{notes_text}\\n\\n\")  # Title and notes formatted as Markdown\n",
        "\n",
        "print(f\"Extracted notes have been saved to '{output_file_path}'\")"
      ]
    },
    {
      "cell_type": "code",
      "source": [
        "from IPython.display import display, Markdown\n",
        "\n",
        "# Path to your markdown file\n",
        "file_path = \"extracted_notes.md\"\n",
        "\n",
        "# Read and display the Markdown file\n",
        "with open(file_path, \"r\", encoding=\"utf-8\") as file:\n",
        "    content = file.read()\n",
        "display(Markdown(content))"
      ],
      "metadata": {
        "id": "_ZkdaMidpt7p"
      },
      "execution_count": null,
      "outputs": []
    }
  ]
}